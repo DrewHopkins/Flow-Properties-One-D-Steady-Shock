{
  "nbformat": 4,
  "nbformat_minor": 0,
  "metadata": {
    "colab": {
      "name": "One D Steady Shock",
      "provenance": [],
      "toc_visible": true,
      "authorship_tag": "ABX9TyOcYu0LmfGqgoskN5NBNIKF",
      "include_colab_link": true
    },
    "kernelspec": {
      "name": "python3",
      "display_name": "Python 3"
    },
    "language_info": {
      "name": "python"
    }
  },
  "cells": [
    {
      "cell_type": "markdown",
      "metadata": {
        "id": "view-in-github",
        "colab_type": "text"
      },
      "source": [
        "<a href=\"https://colab.research.google.com/github/DrewHopkins/Flow-Properties-One-D-Steady-Shock/blob/main/One_D_Steady_Shock.ipynb\" target=\"_parent\"><img src=\"https://colab.research.google.com/assets/colab-badge.svg\" alt=\"Open In Colab\"/></a>"
      ]
    },
    {
      "cell_type": "markdown",
      "metadata": {
        "id": "Ljqsvjf0VEzL"
      },
      "source": [
        "## ***Problem 1)*** Evaluate the following variables for $M_1 = 1$\n",
        "\n",
        "\n",
        "*   $M_2$\n",
        "*   $\\rho_2/\\rho_1$\n",
        "\n",
        "*   $u_2/u_1$\n",
        "*   $P_2/P_1$\n",
        "\n",
        "*   $T_2/T_1$\n",
        "*   $P_{02}/P_{01}$\n"
      ]
    },
    {
      "cell_type": "markdown",
      "metadata": {
        "id": "ckyrLJegc9xe"
      },
      "source": [
        "**Note** the important equations for a calorically perfect gas are as follows...\n",
        "\n",
        "\n",
        "\n",
        "*   $M_2 = ((1+(\\gamma-1)/2*M_1^2)/(\\gamma*M_1^2-(\\gamma-1)/2))^.5$\n",
        "*   $\\rho_2/\\rho_1 = u_1/u_2 = (\\gamma+1)*M_1^2/(2+(\\gamma-1)*M_1^2)$\n",
        "\n",
        "*   $P_2/P_1 = 1+ 2\\gamma/(\\gamma+1)*(M_1^2-1)$\n",
        "*   $T_2/T_1 = h_2/h_1 = P_2/P_1*\\rho_1/\\rho_2 = [1+2\\gamma/(\\gamma+1)*(M_1^2-1)][(2+(\\gamma-1)*M_1^2)/((\\gamma+1)*M_1^2)$\n",
        "\n",
        "\n",
        "*   $S_2-S_1 = C_pln(T_2/T_1)-RlnP_2/P_1$\n",
        "\n",
        "\n",
        "\n",
        "\n"
      ]
    },
    {
      "cell_type": "code",
      "metadata": {
        "id": "9o7vD-4ntN9L"
      },
      "source": [
        "## Packages and key descriptions\n",
        "import matplotlib.pyplot as plt\n",
        "import numpy as np\n",
        "import sympy as sym\n",
        "from sympy import *\n",
        "from sympy import symbols, solve\n"
      ],
      "execution_count": null,
      "outputs": []
    },
    {
      "cell_type": "code",
      "metadata": {
        "colab": {
          "base_uri": "https://localhost:8080/"
        },
        "id": "mrMyTT2ljOB3",
        "outputId": "595a75f9-faea-42dc-f70e-e31db0559c8a"
      },
      "source": [
        "## Given\n",
        "M1 = 1\n",
        "γ = sym.symbols('γ')\n",
        "\n",
        "\n",
        "## Find M2\n",
        "M2 = ((1 + (\tγ  - 1)/2 * M1**2)/(\tγ * M1**2-(\tγ-1)/2))**.5     ## gives relationship between M2 and M1\n",
        "print (u'M\\u2082 = {}'.format(M2))\n",
        "\n",
        "## Find rho2/rho1\n",
        "rho2rho1 = (γ + 1) * M1**2/(2+(\tγ-1)*M1**2)     ## gives relationship between rho2/rho1 and M1\n",
        "print (u'\\u03C1\\u2082/\\u03C1\\u2081 = {}'.format(rho2rho1))\n",
        "\n",
        "## Find P2/P1\n",
        "P2P1 = 1+2*\tγ/(\tγ+1)*(M1**2-1)     ## gives relationship between P2/P1 and M1\n",
        "print (u'P\\u2082/P\\u2081 = {}'.format(P2P1))\n",
        "\n",
        "## Find T2/T1\n",
        "T2T1 = P2P1 * 1/rho2rho1     ## gives relationship between T2/T1 and P2/P1 and rho2/rho1\n",
        "print (u'T\\u2082/T\\u2081 = {}'.format(T2T1))\n",
        "\n",
        "## Find P02/P01\n",
        "# for any stagnation pressure the formula follows \n",
        "P02P01 = (1+(γ-1)/2*M2**2)**(\tγ/(\tγ-1))/((1+(\tγ-1)/2*M1**2)**(\tγ/(\tγ-1)))*P2P1\n",
        "print (u'P\\u2080\\u2082/P\\u2080\\u2082 = {}'.format(P02P01))"
      ],
      "execution_count": null,
      "outputs": [
        {
          "output_type": "stream",
          "name": "stdout",
          "text": [
            "M₂ = 1\n",
            "ρ₂/ρ₁ = 1\n",
            "P₂/P₁ = 1\n",
            "T₂/T₁ = 1\n",
            "P₀₂/P₀₂ = 1\n"
          ]
        }
      ]
    },
    {
      "cell_type": "markdown",
      "metadata": {
        "id": "lgfkv7J2wfk5"
      },
      "source": [
        "## ***Problem 2)*** Evaluate the limit as $M_1 \\rightarrow 1$ for the following variables\n",
        "\n",
        "\n",
        "*   $M_2$\n",
        "*   $\\rho_2/\\rho_1$\n",
        "\n",
        "*   $u_2/u_1$\n",
        "*   $P_2/P_1$\n",
        "\n",
        "*   $T_2/T_1$\n",
        "*   $P_{02}/P_{01}$\n"
      ]
    },
    {
      "cell_type": "code",
      "metadata": {
        "colab": {
          "base_uri": "https://localhost:8080/"
        },
        "id": "-rzNYAY3w0BK",
        "outputId": "158539fd-749f-432c-8ed8-a2619ae2fc17"
      },
      "source": [
        "## Given\n",
        "M1 = sym.symbols('M1')\n",
        "Cp = sym.symbols('Cp')\n",
        "R = sym.symbols('R')\n",
        "γ = [1.3,1.4,1.5]\n",
        "\n",
        "for x in \tγ:\n",
        "  print (\"The following results are for \tγ = {}\".format(x))\n",
        "  ## Find M2\n",
        "      ## use relationship between M2 and M1 from problem 1\n",
        "  M2 = ((1 + (x- 1)/2 * M1**2)/(x * M1**2-(x-1)/2))**(.5)\n",
        "  M2 = limit((M2),M1,oo)\n",
        "  print (u'M\\u2082 = {0:.2f}'.format(M2))\n",
        "\n",
        "  ## Find rho2/rho1\n",
        "      ## use relationship between rho2/rho1 and M1 from problem 1\n",
        "  rho2rho1 = (x + 1) * M1**2/(2+(x-1)*M1**2)     \n",
        "  rho2rho1 = limit((rho2rho1),M1,oo)\n",
        "  print (u'\\u03C1\\u2082/\\u03C1\\u2081 = {0:.2f}'.format(rho2rho1))\n",
        "\n",
        "  ## Find P2/P1\n",
        "      ## use relationship between P2/P1 and M1 from problem 1\n",
        "  P2P1 = 1+2*x/(x+1)*(M1**2-1)     \n",
        "  P2P1 = limit(P2P1,M1,oo)\n",
        "  print (u'P\\u2082/P\\u2081 = {}'.format(P2P1))\n",
        "\n",
        "  ## Find T2/T1\n",
        "      ## use relationship between T2/T1 and P2/P1 and rho2/rho1 from problem 1\n",
        "  T2T1 = P2P1 * 1/rho2rho1     \n",
        "  print (u'T\\u2082/T\\u2081 = {}'.format(T2T1))\n",
        "\n",
        "  ## Find P02/P01\n",
        "  # for any stagnation pressure the formula follows \n",
        "  P02P01 = (((x+1)/2*M1**2)/(1+(x-1)/2*M1**2))**(x/(x-1))*(2*x/(x+1)*M1**2-(x-1)/(x+1))**(-1/(x-1))\n",
        "  P02P01 = limit(P02P01,M1,00)\n",
        "  print (u'P\\u2080\\u2082/P\\u2080\\u2082 = {}'.format(P02P01))\n",
        "  print(\"\")"
      ],
      "execution_count": null,
      "outputs": [
        {
          "output_type": "stream",
          "name": "stdout",
          "text": [
            "The following results are for \tγ = 1.3\n",
            "M₂ = 0.34\n",
            "ρ₂/ρ₁ = 7.67\n",
            "P₂/P₁ = oo\n",
            "T₂/T₁ = oo\n",
            "P₀₂/P₀₂ = 0\n",
            "\n",
            "The following results are for \tγ = 1.4\n",
            "M₂ = 0.38\n",
            "ρ₂/ρ₁ = 6.00\n",
            "P₂/P₁ = oo\n",
            "T₂/T₁ = oo\n",
            "P₀₂/P₀₂ = 0\n",
            "\n",
            "The following results are for \tγ = 1.5\n",
            "M₂ = 0.41\n",
            "ρ₂/ρ₁ = 5.00\n",
            "P₂/P₁ = oo\n",
            "T₂/T₁ = oo\n",
            "P₀₂/P₀₂ = 0\n",
            "\n"
          ]
        }
      ]
    },
    {
      "cell_type": "markdown",
      "metadata": {
        "id": "VG6ZeFwJSVpg"
      },
      "source": [
        "## ***Problem 3)*** Plot all the quantities plotted by Anderson in his Figure 3.10 for the following $M_1=[0.5,5]$"
      ]
    },
    {
      "cell_type": "code",
      "metadata": {
        "colab": {
          "base_uri": "https://localhost:8080/",
          "height": 295
        },
        "id": "4Vxzzh1z2xjH",
        "outputId": "55fa116a-7d4e-42ba-9f62-294393632666"
      },
      "source": [
        "M1 = np.linspace(.5,5,100)\n",
        "γ = 1.4\n",
        "\n",
        "P02P01 = (((γ+1)/2*M1**2)/(1+(γ-1)/2*M1**2))**(γ/(γ-1))*(2*γ/(γ+1)*M1**2-(γ-1)/(γ+1))**(-1/(γ-1))\n",
        "M2 = ((1 + (γ  - 1)/2 * M1**2)/(γ * M1**2-(γ-1)/2))**.5 \n",
        "P2P1 = 1+2*γ/(γ+1)*(M1**2-1)  \n",
        "rho2rho1 = (γ + 1) * M1**2/(2+(γ-1)*M1**2)\n",
        "T2T1 = P2P1 * 1/rho2rho1\n",
        "\n",
        "fig, ax1 = plt.subplots()\n",
        "ax2 = ax1.twinx()\n",
        "\n",
        "# plot the graph\n",
        "ax1.plot(M1,P02P01, color ='r', label = 'P02/P01', linestyle = 'dashed');\n",
        "ax1.plot(M1,M2, color = 'y', label = 'M2',linestyle = 'dashed');\n",
        "ax2.plot(M1,P2P1,color='g', label = 'P2/P1', linestyle = 'dashed');\n",
        "ax2.plot(M1,rho2rho1,color='b', label = 'rho2/rho1', linestyle = 'dashed');\n",
        "ax2.plot(M1,T2T1, label = 'T2/T1', linestyle = 'dashed');\n",
        "\n",
        "# label the Title\n",
        "plt.title('Andersons plot from M=[0.5,5]')\n",
        "\n",
        "# Label for y-axis\n",
        "ax1.set_ylabel('M2 and P02/P01')\n",
        "ax2.set_ylabel('T2/T2, P2/P1, and rho2/rho1')\n",
        "  \n",
        "# Label for x-axis\n",
        "ax1.set_xlabel(\"Mach\")\n",
        "\n",
        "\n",
        "ax1.legend()\n",
        "ax2.legend()\n",
        "  \n",
        "plt.show()  # for display"
      ],
      "execution_count": null,
      "outputs": [
        {
          "output_type": "display_data",
          "data": {
            "image/png": "[encoded data removed]",
            "text/plain": [
              "<Figure size 432x288 with 2 Axes>"
            ]
          },
          "metadata": {
            "needs_background": "light"
          }
        }
      ]
    },
    {
      "cell_type": "markdown",
      "metadata": {
        "id": "ojFu3Xwb04gO"
      },
      "source": [
        "## ***Problem 4)*** Plot $(S_2-S_1)$ for the following qunatities $M_1=[0.5,5]$"
      ]
    },
    {
      "cell_type": "code",
      "metadata": {
        "colab": {
          "base_uri": "https://localhost:8080/",
          "height": 295
        },
        "id": "HJQQC6Ta1yTS",
        "outputId": "b2dabca3-4da9-485d-9098-c26110a1afa5"
      },
      "source": [
        "import matplotlib.pyplot as plt\n",
        "\n",
        "# Initial Conditions\n",
        "γ = 1.4\n",
        "R = 287 #J/(kg*K)\n",
        "M1 = np.linspace(0.5,5,500)\n",
        "\n",
        "\n",
        "# Equations\n",
        "M2 = ((1 + (γ  - 1)/2 * M1**2)/(γ * M1**2-(γ-1)/2) )**.5\n",
        "P2P1 = 1+2*γ/(γ+1)*(M1**2-1)  \n",
        "P02P01 = (((γ+1)/2*M1**2)/(1+(γ-1)/2*M1**2))**(γ/(γ-1))*(2*γ/(γ+1)*M1**2-(γ-1)/(γ+1))**(-1/(γ-1))\n",
        "entropy = -R*np.log(P02P01)\n",
        "\n",
        "# label the Title\n",
        "plt.title('Entropy change over a shcok from M=[0.5,5]')\n",
        "\n",
        "# Label for y-axis\n",
        "plt.ylabel('Entropy Change')\n",
        "  \n",
        "# Label for x-axis\n",
        "plt.xlabel('Mach')\n",
        "\n",
        "# Plot the graph\n",
        "plt.plot(M1, entropy);\n",
        "plt.show()"
      ],
      "execution_count": null,
      "outputs": [
        {
          "output_type": "display_data",
          "data": {
            "image/png": "[encoded data removed]",
            "text/plain": [
              "<Figure size 432x288 with 1 Axes>"
            ]
          },
          "metadata": {
            "needs_background": "light"
          }
        }
      ]
    },
    {
      "cell_type": "markdown",
      "metadata": {
        "id": "QiJHp8Cp9_1x"
      },
      "source": [
        "## ***Problem 5)*** Plot the Hugoniot curve that would include an initial (preshock) condition corresponding to M1=2.5 at standard sea level conditions in air."
      ]
    },
    {
      "cell_type": "code",
      "metadata": {
        "id": "0i7ynaGCLE6a",
        "colab": {
          "base_uri": "https://localhost:8080/",
          "height": 295
        },
        "outputId": "802906b3-f0f1-4db8-b4e2-3172a31381cc"
      },
      "source": [
        "γ = 1.4\n",
        "\n",
        "# stationary condtions at sea level\n",
        "a = 340 #m/s\n",
        "P0 = 101325 #Pa\n",
        "v0 = 1/1.225 #m^3/kg\n",
        "\n",
        "# conditions at m = 2.5\n",
        "M1 = 2.5\n",
        "P1 = (1 + (γ-1)/2*M1**2)**(-γ/(γ-1))*P0\n",
        "v1 = (1 + (γ-1)/2*M1**2)**(1/(γ-1))*v0\n",
        "u1 = M1 * a\n",
        "m = 1/(v1) * u1\n",
        "\n",
        "v2 = np.linspace(1.2,v1+1,100)\n",
        "v2_ = np.linspace(1.2,v1,100)\n",
        "\n",
        "P2 = (((γ+1)/(γ-1)*v1/v2-1)/((γ+1)/(γ-1)-v1/v2))*P1\n",
        "P2_line = -m**2 *(v2_-v1) + P1\n",
        "\n",
        "# plot the graph\n",
        "plt.plot(v2,P2, color ='r', label = 'Hugoniot', linestyle = 'dashed');\n",
        "plt.plot(v2_,P2_line,color='b', label = \"linear condition\", linestyle='dashed')\n",
        "\n",
        "# label the Title\n",
        "plt.title('Hugoniot Curve at sea level')\n",
        "\n",
        "# Label for x-axis\n",
        "plt.xlabel(\"Specific Volume 'm^3/kg'\")\n",
        "\n",
        "# Label for y-axis\n",
        "plt.ylabel(\"Pressure\" )\n",
        "\n",
        "\n",
        "plt.legend()\n",
        "plt.show() # for display"
      ],
      "execution_count": null,
      "outputs": [
        {
          "output_type": "display_data",
          "data": {
            "image/png": "[encoded data removed]",
            "text/plain": [
              "<Figure size 432x288 with 1 Axes>"
            ]
          },
          "metadata": {
            "needs_background": "light"
          }
        }
      ]
    },
    {
      "cell_type": "code",
      "metadata": {
        "id": "J8NG7eU28925"
      },
      "source": [
        ""
      ],
      "execution_count": null,
      "outputs": []
    }
  ]
}